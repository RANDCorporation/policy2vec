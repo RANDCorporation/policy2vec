{
 "cells": [
  {
   "cell_type": "markdown",
   "metadata": {},
   "source": [
    "Network Analysis of Vaccination Strategies  \n",
    "Copyright (C) 2020 by The RAND Corporation  \n",
    "See LICENSE and README.md for information on usage and licensing\n",
    "\n",
    "# Policy2Vec \n",
    "\n",
    "In this notebook I am going to use Doc2Vec (gensim implementation) to map policy documents to numerical vectors, which will then be used for all sorts of NLP tasks. "
   ]
  },
  {
   "cell_type": "markdown",
   "metadata": {},
   "source": [
    "## Set-up"
   ]
  },
  {
   "cell_type": "code",
   "execution_count": 2,
   "metadata": {},
   "outputs": [],
   "source": [
    "## Imports\n",
    "import os, io, re\n",
    "import glob\n",
    "import numpy as np\n",
    "from gensim.models.doc2vec import Doc2Vec, TaggedDocument\n",
    "\n",
    "import nltk\n",
    "from nltk.stem import WordNetLemmatizer \n",
    "from nltk.corpus import wordnet\n",
    "\n",
    "from sklearn import cluster\n",
    "from sklearn import metrics\n",
    "from sklearn.manifold import TSNE\n",
    "from sklearn.metrics.pairwise import pairwise_distances\n",
    "from sklearn.linear_model import LinearRegression\n",
    "\n",
    "from scipy.cluster.hierarchy import dendrogram, fcluster, leaves_list, linkage\n",
    "from scipy.spatial import distance\n",
    "#from fastcluster import linkage\n",
    "\n",
    "import seaborn as sns\n",
    "import pandas as pd\n",
    "\n",
    "import matplotlib\n",
    "import matplotlib.pyplot as plt\n",
    "\n",
    "import matplotlib.style as style "
   ]
  },
  {
   "cell_type": "markdown",
   "metadata": {},
   "source": [
    "Some settings to make nicer plots."
   ]
  },
  {
   "cell_type": "code",
   "execution_count": 3,
   "metadata": {},
   "outputs": [],
   "source": [
    "style.use('seaborn-paper')\n",
    "\n",
    "fontsize = 14\n",
    "plt.rcParams.update({\n",
    "    'font.size': fontsize, \n",
    "    'axes.labelsize': fontsize, \n",
    "    'legend.fontsize': fontsize,\n",
    "    'xtick.labelsize': fontsize,\n",
    "    'ytick.labelsize': fontsize,\n",
    "    'lines.linewidth': 2\n",
    "                    },\n",
    "                   )"
   ]
  },
  {
   "cell_type": "markdown",
   "metadata": {},
   "source": [
    "initialize some directories"
   ]
  },
  {
   "cell_type": "code",
   "execution_count": 4,
   "metadata": {},
   "outputs": [],
   "source": [
    "if not os.path.exists(\"gensim/figures\"):\n",
    "    os.makedirs(\"gensim/figures\")\n",
    "if not os.path.exists(\"gensim/models\"):\n",
    "    os.makedirs(\"gensim/models\")"
   ]
  },
  {
   "cell_type": "markdown",
   "metadata": {},
   "source": [
    "## Corpus Statistics"
   ]
  },
  {
   "cell_type": "code",
   "execution_count": 5,
   "metadata": {},
   "outputs": [
    {
     "name": "stdout",
     "output_type": "stream",
     "text": [
      "found 37496 total documents\n"
     ]
    }
   ],
   "source": [
    "## paths\n",
    "docpath = '../web_scraping/documents/parsed_text/'\n",
    "txtfiles = [f for f in glob.glob(docpath + \"**/*.txt\", recursive=True)]\n",
    "print('found %i total documents' % len(txtfiles))"
   ]
  },
  {
   "cell_type": "markdown",
   "metadata": {},
   "source": [
    "Count the total number of lines in the corpus."
   ]
  },
  {
   "cell_type": "code",
   "execution_count": 7,
   "metadata": {},
   "outputs": [],
   "source": [
    "def file_len(fname):\n",
    "    with open(fname) as f:\n",
    "        for i, l in enumerate(f):\n",
    "            pass\n",
    "    return i + 1"
   ]
  },
  {
   "cell_type": "code",
   "execution_count": 9,
   "metadata": {},
   "outputs": [
    {
     "name": "stdout",
     "output_type": "stream",
     "text": [
      "number of lines in corpus = 63972086\n"
     ]
    }
   ],
   "source": [
    "count = 0\n",
    "for i in range(len(txtfiles)):\n",
    "    count += file_len(txtfiles[i])\n",
    "print('number of lines in corpus = %i' %count)"
   ]
  },
  {
   "cell_type": "markdown",
   "metadata": {},
   "source": [
    "### collect the word counts"
   ]
  },
  {
   "cell_type": "code",
   "execution_count": 5,
   "metadata": {},
   "outputs": [
    {
     "name": "stdout",
     "output_type": "stream",
     "text": [
      "processing document 0\n",
      "processing document 1000\n",
      "processing document 2000\n",
      "processing document 3000\n",
      "processing document 4000\n",
      "processing document 5000\n",
      "processing document 6000\n",
      "processing document 7000\n",
      "processing document 8000\n",
      "processing document 9000\n",
      "processing document 10000\n",
      "processing document 11000\n",
      "processing document 12000\n",
      "processing document 13000\n",
      "processing document 14000\n",
      "processing document 15000\n",
      "processing document 16000\n",
      "processing document 17000\n",
      "processing document 18000\n",
      "processing document 19000\n",
      "processing document 20000\n",
      "processing document 21000\n",
      "processing document 22000\n",
      "processing document 23000\n",
      "processing document 24000\n",
      "processing document 25000\n",
      "processing document 26000\n",
      "processing document 27000\n",
      "processing document 28000\n",
      "processing document 29000\n",
      "processing document 30000\n",
      "processing document 31000\n",
      "processing document 32000\n",
      "processing document 33000\n",
      "processing document 34000\n",
      "processing document 35000\n",
      "processing document 36000\n",
      "processing document 37000\n"
     ]
    }
   ],
   "source": [
    "word_count = []\n",
    "for i in range(len(txtfiles)):\n",
    "    if i % 1000 == 0:\n",
    "        print('processing document %i' %i)\n",
    "    doc = open(txtfiles[i], \"rb\").read().lower().split()\n",
    "    word_count.append(len(doc))\n",
    "word_count = np.asarray(word_count)"
   ]
  },
  {
   "cell_type": "markdown",
   "metadata": {},
   "source": [
    "Unfortunately, there are some documents which have 0 word count (presumably because the pdftotext operation failed), and there are also some documents with very few words (i.e. 3, 5, etc). These are presumably placeholder documents that say variation of \"access to this document is restricted\" or \"stocked and issued\". The 0-word documents should obviously be removed, and the low count documents should also be removed. I'll pick an admittedly arbitrary threshold of 100 words. I'm sure there's a more sophisticated approach for this step. "
   ]
  },
  {
   "cell_type": "code",
   "execution_count": 6,
   "metadata": {},
   "outputs": [
    {
     "data": {
      "image/png": "[encoded data removed]",
      "text/plain": [
       "<Figure size 460.8x316.8 with 1 Axes>"
      ]
     },
     "metadata": {
      "needs_background": "light"
     },
     "output_type": "display_data"
    },
    {
     "name": "stdout",
     "output_type": "stream",
     "text": [
      "number of documents with 0 words:  45\n",
      "number of documents with less than 10 words:  53\n"
     ]
    }
   ],
   "source": [
    "plt.hist(word_count, bins=500)\n",
    "plt.xlim(0, 60000)\n",
    "plt.xlabel('word count')\n",
    "plt.ylabel('frequency')\n",
    "plt.show()\n",
    "\n",
    "print('number of documents with 0 words: ', np.sum(word_count == 0))\n",
    "print('number of documents with less than 10 words: ', np.sum(word_count < 10))"
   ]
  },
  {
   "cell_type": "markdown",
   "metadata": {},
   "source": [
    "Repeat the above step, but now only include documents with a word count which exceeds the threshold. This takes awhile."
   ]
  },
  {
   "cell_type": "code",
   "execution_count": 7,
   "metadata": {},
   "outputs": [
    {
     "name": "stdout",
     "output_type": "stream",
     "text": [
      "processing document 0\n",
      "processing document 1000\n",
      "processing document 2000\n",
      "processing document 3000\n",
      "processing document 4000\n",
      "processing document 5000\n",
      "processing document 6000\n",
      "processing document 7000\n",
      "processing document 8000\n",
      "processing document 9000\n",
      "processing document 10000\n",
      "processing document 11000\n",
      "processing document 12000\n",
      "processing document 13000\n",
      "processing document 14000\n",
      "processing document 15000\n",
      "processing document 16000\n",
      "processing document 17000\n",
      "processing document 18000\n",
      "processing document 19000\n",
      "processing document 20000\n",
      "processing document 21000\n",
      "processing document 22000\n",
      "processing document 23000\n",
      "processing document 24000\n",
      "processing document 25000\n",
      "processing document 26000\n",
      "processing document 27000\n",
      "processing document 28000\n",
      "processing document 29000\n",
      "processing document 30000\n",
      "processing document 31000\n",
      "processing document 32000\n",
      "processing document 33000\n",
      "processing document 34000\n",
      "processing document 35000\n",
      "processing document 36000\n",
      "processing document 37000\n"
     ]
    }
   ],
   "source": [
    "threshold = 100\n",
    "\n",
    "txtfiles_new = []\n",
    "word_count_new = []\n",
    "vocab = set([])\n",
    "\n",
    "for i in range(len(txtfiles)):\n",
    "    if i % 1000 == 0:\n",
    "        print(\"processing document %i\" %i)\n",
    "        \n",
    "    if word_count[i] > threshold:\n",
    "        word_count_new.append(word_count[i])\n",
    "        txtfiles_new.append(txtfiles[i])\n",
    "        \n",
    "        doc = open(txtfiles[i], \"rb\").read().lower().split()\n",
    "        vocab = vocab | set(doc)\n",
    "\n",
    "word_count_new = np.asarray(word_count_new)\n",
    "txtfiles_new = np.asarray(txtfiles_new)"
   ]
  },
  {
   "cell_type": "code",
   "execution_count": 8,
   "metadata": {},
   "outputs": [
    {
     "data": {
      "image/png": "[encoded data removed]",
      "text/plain": [
       "<Figure size 460.8x316.8 with 1 Axes>"
      ]
     },
     "metadata": {
      "needs_background": "light"
     },
     "output_type": "display_data"
    },
    {
     "name": "stdout",
     "output_type": "stream",
     "text": [
      "number of documents with 0 words:  0\n",
      "number of documents with less than 10 words:  0\n"
     ]
    }
   ],
   "source": [
    "plt.hist(word_count_new, bins=500)\n",
    "plt.xlim(0, 60000)\n",
    "plt.xlabel('word count')\n",
    "plt.ylabel('frequency')\n",
    "plt.show()\n",
    "\n",
    "print('number of documents with 0 words: ', np.sum(word_count_new == 0))\n",
    "print('number of documents with less than 10 words: ', np.sum(word_count_new < 10))"
   ]
  },
  {
   "cell_type": "code",
   "execution_count": 9,
   "metadata": {},
   "outputs": [
    {
     "name": "stdout",
     "output_type": "stream",
     "text": [
      "corpus size (documents):  36878\n",
      "corpus size (words):  379920224\n",
      "vocabulary size:  3569915\n",
      "\n",
      "word count statistics: \n",
      "mean:  10302.083193231738\n",
      "median:  6377.0\n",
      "min:  101\n",
      "max:  479809\n"
     ]
    }
   ],
   "source": [
    "print('corpus size (documents): ', len(word_count_new))\n",
    "print('corpus size (words): ', np.sum(word_count_new))\n",
    "print('vocabulary size: ', len(vocab))\n",
    "print('\\nword count statistics: ')\n",
    "print('mean: ', np.mean(word_count_new))\n",
    "print('median: ', np.median(word_count_new))\n",
    "print('min: ', np.min(word_count_new))\n",
    "print('max: ', np.max(word_count_new))"
   ]
  },
  {
   "cell_type": "markdown",
   "metadata": {},
   "source": [
    "### Zipf's Law\n",
    "\n",
    "The distribution of words in natural language empirically satisfies something known as [Zipf's law](https://en.wikipedia.org/wiki/Zipf%27s_law), which has some nice connections to statistical physics. I couldn't help but examine whether or not it held for this corpus - although it should be noted that the raw text files are not \"natural\" in that there are lots of extraneous symbols and artifacts from the conversion from .pdf to .txt format."
   ]
  },
  {
   "cell_type": "code",
   "execution_count": 10,
   "metadata": {},
   "outputs": [],
   "source": [
    "word_freq = {v:0 for v in vocab}\n",
    "for i in range(len(txtfiles_new)):\n",
    "    doc = open(txtfiles_new[i], \"rb\").read().lower().split()\n",
    "    for x in doc:\n",
    "        word_freq[x] += 1\n",
    "        \n",
    "frequencies = np.sort(np.asarray(list(word_freq.values())))[::-1]\n",
    "frequencies = frequencies/np.sum(frequencies)\n",
    "\n",
    "## fit a line\n",
    "x = np.log(np.asarray([i for i in range(1,len(frequencies)+1)])).reshape(-1, 1)\n",
    "y =  np.log(frequencies).reshape(-1, 1)\n",
    "linear_model = LinearRegression().fit(x, y)\n",
    "#print(linear_model.intercept_)\n",
    "#print(linear_model.coef_)\n",
    "\n",
    "## try fitting a line to teh first 10,000 ranks\n",
    "x_small = np.log(np.asarray([i for i in range(1,len(frequencies)+1)]))[0:10000].reshape(-1, 1)\n",
    "y_small =  np.log(frequencies)[0:10000].reshape(-1, 1)\n",
    "model_small = LinearRegression().fit(x_small, y_small)\n",
    "#print(model_small.intercept_)\n",
    "#print(model_small.coef_)"
   ]
  },
  {
   "cell_type": "code",
   "execution_count": 11,
   "metadata": {},
   "outputs": [
    {
     "data": {
      "image/png": "[encoded data removed]",
      "text/plain": [
       "<Figure size 1440x432 with 3 Axes>"
      ]
     },
     "metadata": {
      "needs_background": "light"
     },
     "output_type": "display_data"
    }
   ],
   "source": [
    "fig, (ax1, ax2, ax3) = plt.subplots(1, 3, figsize=(20, 6))\n",
    "\n",
    "## word count\n",
    "ax1.hist(word_count_new, bins=75, density=False, alpha=1, color='k', histtype='step', linewidth=2)\n",
    "ax1.hist(word_count_new, bins=75, density=False, alpha=0.25, color='k')\n",
    "ax1.set_xlabel('word count')\n",
    "ax1.set_ylabel('frequency')\n",
    "ax1.set_yscale('log')\n",
    "ax1.ticklabel_format(style='sci', axis='x', scilimits=(0,0))\n",
    "ax1.tick_params(axis='both', which='major')\n",
    "ax1.text(-0.15, 1, 'a', transform=ax1.transAxes, size=20)\n",
    "ax1.xaxis.major.formatter._useMathText = True\n",
    " \n",
    "## log word count\n",
    "ax2.hist(np.log(word_count_new), bins=75, density=False, alpha=1, color='k', histtype='step', linewidth=2)\n",
    "ax2.hist(np.log(word_count_new), bins=75, density=False, alpha=0.25, color='k')\n",
    "ax2.ticklabel_format(style='plain', axis='both', scilimits=(0,0))\n",
    "ax2.set_xlabel(r'log word count')\n",
    "ax2.set_ylabel('frequency')\n",
    "ax2.set_yscale('log')\n",
    "ax2.tick_params(axis='both', which='major')\n",
    "ax2.text(-0.15, 1, 'b', transform=ax2.transAxes, size=20)\n",
    "\n",
    "## Zipf's law\n",
    "ax3.plot([i for i in range(1,len(frequencies)+1)], frequencies, color='k', label='data')\n",
    "ax3.plot(np.exp(x), np.exp(linear_model.coef_[0][0]*x + linear_model.intercept_[0]), color='k', linestyle='dashed', label='linear fit')\n",
    "ax3.legend()\n",
    "ax3.set_xscale('log')\n",
    "ax3.set_yscale('log')\n",
    "ax3.set_xlabel('word rank')\n",
    "ax3.set_ylabel('word frequency')\n",
    "#ax3.tick_params(axis='sci', which='major')\n",
    "ax3.text(-0.15, 1, 'c', transform=ax3.transAxes, size=20)\n",
    "\n",
    "## save and display\n",
    "#plt.tight_layout()\n",
    "plt.savefig(\"gensim/figures/corpus_stats.png\", bbox_inches='tight')\n",
    "plt.show()"
   ]
  },
  {
   "cell_type": "markdown",
   "metadata": {},
   "source": [
    "Zipf law coefficient"
   ]
  },
  {
   "cell_type": "code",
   "execution_count": 12,
   "metadata": {},
   "outputs": [
    {
     "data": {
      "text/plain": [
       "-1.271665924796851"
      ]
     },
     "execution_count": 12,
     "metadata": {},
     "output_type": "execute_result"
    }
   ],
   "source": [
    "linear_model.coef_[0][0]"
   ]
  },
  {
   "cell_type": "markdown",
   "metadata": {},
   "source": [
    "## Preprocess the Data\n",
    "\n",
    "In order to learn document embeddings, we need to preprocess the data. Here I remove stop words, lemmatize, and perform some other steps. This is an important step and I wouldn't be surprised if there are better choices than the ones I made. "
   ]
  },
  {
   "cell_type": "code",
   "execution_count": 13,
   "metadata": {},
   "outputs": [
    {
     "name": "stderr",
     "output_type": "stream",
     "text": [
      "[nltk_data] Downloading package stopwords to /home/gavin/nltk_data...\n",
      "[nltk_data]   Package stopwords is already up-to-date!\n",
      "[nltk_data] Downloading package punkt to /home/gavin/nltk_data...\n",
      "[nltk_data]   Package punkt is already up-to-date!\n",
      "[nltk_data] Downloading package averaged_perceptron_tagger to\n",
      "[nltk_data]     /home/gavin/nltk_data...\n",
      "[nltk_data]   Package averaged_perceptron_tagger is already up-to-\n",
      "[nltk_data]       date!\n",
      "[nltk_data] Downloading package wordnet to /home/gavin/nltk_data...\n",
      "[nltk_data]   Package wordnet is already up-to-date!\n"
     ]
    },
    {
     "data": {
      "text/plain": [
       "True"
      ]
     },
     "execution_count": 13,
     "metadata": {},
     "output_type": "execute_result"
    }
   ],
   "source": [
    "## download nltk utilities\n",
    "nltk.download('stopwords')\n",
    "nltk.download('punkt')\n",
    "nltk.download('averaged_perceptron_tagger')\n",
    "nltk.download('wordnet')"
   ]
  },
  {
   "cell_type": "code",
   "execution_count": 14,
   "metadata": {},
   "outputs": [],
   "source": [
    "## set stop words\n",
    "stop_words = set(nltk.corpus.stopwords.words('english'));"
   ]
  },
  {
   "cell_type": "code",
   "execution_count": 15,
   "metadata": {},
   "outputs": [],
   "source": [
    "## code for lemmatizing entire sentences taken from here: \n",
    "## https://simonhessner.de/lemmatize-whole-sentences-with-python-and-nltks-wordnetlemmatizer/\n",
    "\n",
    "## lemmatizer\n",
    "lemmatizer = WordNetLemmatizer() \n",
    "\n",
    "\n",
    "def nltk2wn_tag(nltk_tag):\n",
    "    if nltk_tag.startswith('J'):\n",
    "        return wordnet.ADJ\n",
    "    elif nltk_tag.startswith('V'):\n",
    "        return wordnet.VERB\n",
    "    elif nltk_tag.startswith('N'):\n",
    "        return wordnet.NOUN\n",
    "    elif nltk_tag.startswith('R'):\n",
    "        return wordnet.ADV\n",
    "    else:          \n",
    "        return None\n",
    "\n",
    "    \n",
    "def lemmatize_sentence(sentence):\n",
    "    nltk_tagged = nltk.pos_tag(nltk.word_tokenize(sentence))  \n",
    "    wn_tagged = map(lambda x: (x[0], nltk2wn_tag(x[1])), nltk_tagged)\n",
    "    res_words = []\n",
    "    for word, tag in wn_tagged:\n",
    "        if tag is None:            \n",
    "            res_words.append(word)\n",
    "        else:\n",
    "            res_words.append(lemmatizer.lemmatize(word, tag))\n",
    "    return \" \".join(res_words)"
   ]
  },
  {
   "cell_type": "markdown",
   "metadata": {},
   "source": [
    "let's test the effect of the preprocessing on a simple text string:"
   ]
  },
  {
   "cell_type": "code",
   "execution_count": 16,
   "metadata": {},
   "outputs": [
    {
     "name": "stdout",
     "output_type": "stream",
     "text": [
      "[('There', 'EX'), ('are', 'VBP'), ('some', 'DT'), ('cases', 'NNS'), ('where', 'WRB'), ('one', 'CD'), ('can', 'MD'), ('not', 'RB'), ('put', 'VB'), ('a', 'DT'), ('static', 'JJ'), ('black', 'JJ'), ('hole', 'NN'), ('inside', 'IN'), ('a', 'DT'), ('static', 'JJ'), ('soliton', 'NN'), ('.', '.'), ('For', 'IN'), ('example', 'NN'), (',', ','), ('if', 'IN'), ('one', 'CD'), ('puts', 'VBZ'), ('a', 'DT'), ('small', 'JJ'), ('black', 'JJ'), ('hole', 'NN'), ('inside', 'IN'), ('a', 'DT'), ('static', 'JJ'), ('perfect', 'NN'), ('fluid', 'NN'), ('star', 'NN'), ('it', 'PRP'), ('will', 'MD'), ('grow', 'VB'), ('and', 'CC'), ('slowly', 'RB'), ('consume', 'VB'), ('the', 'DT'), ('star', 'NN'), ('.', '.'), ('Similarly', 'RB'), (',', ','), ('one', 'CD'), ('can', 'MD'), ('not', 'RB'), ('put', 'VB'), ('a', 'DT'), ('static', 'JJ'), ('black', 'JJ'), ('hole', 'NN'), ('inside', 'IN'), ('a', 'DT'), ('static', 'JJ'), ('boson', 'NN'), ('star', 'NN'), ('.', '.'), ('The', 'DT'), ('matter', 'NN'), ('content', 'NN'), ('of', 'IN'), ('the', 'DT'), ('soliton', 'NN'), ('determines', 'VBZ'), ('whether', 'IN'), ('or', 'CC'), ('not', 'RB'), ('one', 'CD'), ('can', 'MD'), ('put', 'VB'), ('a', 'DT'), ('static', 'JJ'), ('black', 'JJ'), ('hole', 'NN'), ('inside', 'NN'), ('.', '.')] \n",
      "\n",
      "<map object at 0x7f5d69bde8b0> \n",
      "\n",
      "There be some case where one can not put a static black hole inside a static soliton . For example , if one put a small black hole inside a static perfect fluid star it will grow and slowly consume the star . Similarly , one can not put a static black hole inside a static boson star . The matter content of the soliton determine whether or not one can put a static black hole inside .\n"
     ]
    }
   ],
   "source": [
    "sentence = \"There are some cases where one cannot put a static black hole inside a static soliton. For example, if one puts a small black hole inside a static perfect fluid star it will grow and slowly consume the star. Similarly, one cannot put a static black hole inside a static boson star. The matter content of the soliton determines whether or not one can put a static black hole inside.\"\n",
    "\n",
    "nltk_tagged = nltk.pos_tag(nltk.word_tokenize(sentence))\n",
    "\n",
    "print(nltk_tagged,'\\n')\n",
    "print(map(lambda x: (x[0], nltk2wn_tag(x[1])), nltk_tagged),'\\n')\n",
    "print(lemmatize_sentence(sentence))"
   ]
  },
  {
   "cell_type": "code",
   "execution_count": 17,
   "metadata": {},
   "outputs": [],
   "source": [
    "def preprocessing(doc_path):  \n",
    "    \"\"\"preprocessing step for text inputs\"\"\"\n",
    "    \n",
    "    words = io.open(doc_path, 'r', encoding='utf-8', errors='ignore').read()\n",
    "    \n",
    "    ## covert to all lower-case\n",
    "    words = words.lower()\n",
    "    \n",
    "    ## remove numbers\n",
    "    words = re.sub(r'[0-9]+', '', words)\n",
    "\n",
    "    ## lemmatize\n",
    "    words = lemmatize_sentence(words)\n",
    "    \n",
    "    ## tokenize\n",
    "    words = words.split()\n",
    "    \n",
    "    ## remove stop-words\n",
    "    words = [w for w in words if w not in stop_words]\n",
    "\n",
    "    return words\n",
    "\n",
    "\n",
    "def cosine_similarity(v1, v2):\n",
    "    \"\"\"\n",
    "    cosine simliarity, i.e. \\cos(\\theta) = \\left( \\frac{v1*v2}{||v1|| ||v2|} \\right)\n",
    "    \"\"\"\n",
    "    norm1 = np.sqrt(np.dot(v1, v1))\n",
    "    norm2 = np.sqrt(np.dot(v2, v2))\n",
    "    \n",
    "    return np.dot(v1, v2)/norm1/norm2\n",
    "\n",
    "\n",
    "def angular_distance(v1, v2):\n",
    "    \"\"\"\n",
    "    angular distance, i.e. dist(v1, v2) = \\cos^{-1}(\\cosine simliarity(v1, v2))/\\pi\n",
    "    \"\"\"\n",
    "    cos_sim = cosine_similarity(v1, v2)\n",
    "    return np.arccos(cos_sim)/np.pi"
   ]
  },
  {
   "cell_type": "markdown",
   "metadata": {},
   "source": [
    "## Preprocess the data\n",
    "\n",
    "This step takes more than an hour, so it might be nice to save it. Be warned, however, that the filesize is more than 1 GB."
   ]
  },
  {
   "cell_type": "code",
   "execution_count": 18,
   "metadata": {},
   "outputs": [],
   "source": [
    "## These are flags I use to control whether I load the tagged data from file or whether I tag it here.\n",
    "data_load = False"
   ]
  },
  {
   "cell_type": "code",
   "execution_count": null,
   "metadata": {},
   "outputs": [
    {
     "name": "stdout",
     "output_type": "stream",
     "text": [
      "processing document 0\n",
      "processing document 1000\n",
      "processing document 2000\n",
      "processing document 3000\n",
      "processing document 4000\n",
      "processing document 5000\n",
      "processing document 6000\n",
      "processing document 7000\n",
      "processing document 8000\n",
      "processing document 9000\n",
      "processing document 10000\n",
      "processing document 11000\n",
      "processing document 12000\n",
      "processing document 13000\n",
      "processing document 14000\n",
      "processing document 15000\n",
      "processing document 16000\n",
      "processing document 17000\n",
      "processing document 18000\n",
      "processing document 19000\n",
      "processing document 20000\n",
      "processing document 21000\n",
      "processing document 22000\n",
      "processing document 23000\n",
      "processing document 24000\n",
      "processing document 25000\n",
      "processing document 26000\n",
      "processing document 27000\n",
      "processing document 28000\n",
      "processing document 29000\n",
      "processing document 30000\n",
      "processing document 31000\n",
      "processing document 32000\n",
      "processing document 33000\n",
      "processing document 34000\n",
      "processing document 35000\n",
      "processing document 36000\n"
     ]
    }
   ],
   "source": [
    "if data_load:\n",
    "    word_list = list(np.load('gensim/word_list.npy'))\n",
    "    tag_list = list(np.load('gensim/tag_list.npy'))\n",
    "\n",
    "else:\n",
    "    word_list = []\n",
    "    tag_list = []\n",
    "\n",
    "    for i in range(len(txtfiles_new)):\n",
    "        \n",
    "        if i % 1000 == 0:\n",
    "            print('processing document %i' %i)\n",
    "        \n",
    "        ## i-th document\n",
    "        doc_path = txtfiles_new[i]\n",
    "\n",
    "        ## unique doc id\n",
    "        tags = [str(i)]\n",
    "\n",
    "        ## the words of the doc\n",
    "        words = preprocessing(doc_path)\n",
    "\n",
    "        ## add non-unique tags describing the doc type\n",
    "        if 'Lemay_Center' in doc_path:\n",
    "            tags.extend(['AF', 'AF:Lemay Center'])\n",
    "        if 'bases' in doc_path:\n",
    "            tags.extend(['AF', 'AF:bases'])\n",
    "        if 'departmental' in doc_path:\n",
    "            tags.extend(['AF', 'AF:departmental'])\n",
    "        if 'dru' in doc_path:\n",
    "            tags.extend(['AF', 'AF:dru'])\n",
    "        if 'foa' in doc_path:\n",
    "            tags.extend(['AF', 'AF:foa'])   \n",
    "        if 'majcom' in doc_path:\n",
    "            tags.extend(['AF', 'AF:majcom'])\n",
    "        if 'natlguard' in doc_path:\n",
    "            tags.extend(['AF', 'AF:natlguard'])\n",
    "        if 'numberedAFB' in doc_path:\n",
    "            tags.extend(['AF', 'AF:numberedAFB'])\n",
    "        if 'units' in doc_path:\n",
    "            tags.extend(['AF', 'AF:units'])\n",
    "        if 'admin_instructions' in doc_path:\n",
    "            tags.extend(['DoD', 'DoD:admin_instructions'])        \n",
    "        if 'directives' in doc_path:\n",
    "            tags.extend(['DoD', 'DoD:directives'])         \n",
    "        if 'dtms' in doc_path:\n",
    "            tags.extend(['DoD', 'DoD:dtms'])        \n",
    "        if 'instructions' in doc_path:\n",
    "            tags.extend(['DoD', 'DoD:instructions'])        \n",
    "        if 'manuals' in doc_path:\n",
    "            tags.extend(['DoD', 'DoD:manuals'])        \n",
    "        if 'joint_doctrine_pubs' in doc_path:\n",
    "            tags.extend(['JCS', 'JCS:joint_doctrine_pubs'])            \n",
    "\n",
    "        word_list.append(words)\n",
    "        tag_list.append(tags)\n",
    "        \n",
    "    ## save the final result\n",
    "    np.save('gensim/word_list', np.asarray(word_list))\n",
    "    np.save('gensim/tag_list', np.asarray(tag_list))"
   ]
  },
  {
   "cell_type": "code",
   "execution_count": 1,
   "metadata": {},
   "outputs": [
    {
     "ename": "NameError",
     "evalue": "name 'word_list' is not defined",
     "output_type": "error",
     "traceback": [
      "\u001b[0;31m---------------------------------------------------------------------------\u001b[0m",
      "\u001b[0;31mNameError\u001b[0m                                 Traceback (most recent call last)",
      "\u001b[0;32m<ipython-input-1-55c16763b766>\u001b[0m in \u001b[0;36m<module>\u001b[0;34m\u001b[0m\n\u001b[1;32m      1\u001b[0m \u001b[0;31m## combine everything into a data list\u001b[0m\u001b[0;34m\u001b[0m\u001b[0;34m\u001b[0m\u001b[0;34m\u001b[0m\u001b[0m\n\u001b[1;32m      2\u001b[0m \u001b[0mdata\u001b[0m \u001b[0;34m=\u001b[0m \u001b[0;34m[\u001b[0m\u001b[0;34m]\u001b[0m\u001b[0;34m\u001b[0m\u001b[0;34m\u001b[0m\u001b[0m\n\u001b[0;32m----> 3\u001b[0;31m \u001b[0;32mfor\u001b[0m \u001b[0mi\u001b[0m \u001b[0;32min\u001b[0m \u001b[0mrange\u001b[0m\u001b[0;34m(\u001b[0m\u001b[0mlen\u001b[0m\u001b[0;34m(\u001b[0m\u001b[0mword_list\u001b[0m\u001b[0;34m)\u001b[0m\u001b[0;34m)\u001b[0m\u001b[0;34m:\u001b[0m\u001b[0;34m\u001b[0m\u001b[0;34m\u001b[0m\u001b[0m\n\u001b[0m\u001b[1;32m      4\u001b[0m     \u001b[0mdata\u001b[0m\u001b[0;34m.\u001b[0m\u001b[0mappend\u001b[0m\u001b[0;34m(\u001b[0m\u001b[0mTaggedDocument\u001b[0m\u001b[0;34m(\u001b[0m\u001b[0mwords\u001b[0m\u001b[0;34m=\u001b[0m\u001b[0mword_list\u001b[0m\u001b[0;34m[\u001b[0m\u001b[0mi\u001b[0m\u001b[0;34m]\u001b[0m\u001b[0;34m,\u001b[0m \u001b[0mtags\u001b[0m\u001b[0;34m=\u001b[0m\u001b[0mtag_list\u001b[0m\u001b[0;34m[\u001b[0m\u001b[0mi\u001b[0m\u001b[0;34m]\u001b[0m\u001b[0;34m)\u001b[0m\u001b[0;34m)\u001b[0m\u001b[0;34m\u001b[0m\u001b[0;34m\u001b[0m\u001b[0m\n\u001b[1;32m      5\u001b[0m \u001b[0;34m\u001b[0m\u001b[0m\n",
      "\u001b[0;31mNameError\u001b[0m: name 'word_list' is not defined"
     ]
    }
   ],
   "source": [
    "## combine everything into a data list\n",
    "data = []\n",
    "for i in range(len(word_list)):\n",
    "    data.append(TaggedDocument(words=word_list[i], tags=tag_list[i]))\n",
    "\n",
    "## check that all these lengths are the same\n",
    "print(len(txtfiles_new))\n",
    "print(len(data))\n",
    "print(len(word_list))"
   ]
  },
  {
   "cell_type": "markdown",
   "metadata": {},
   "source": [
    "## Build the Model"
   ]
  },
  {
   "cell_type": "code",
   "execution_count": null,
   "metadata": {},
   "outputs": [],
   "source": [
    "## Similar flag as above\n",
    "model_load = False"
   ]
  },
  {
   "cell_type": "code",
   "execution_count": null,
   "metadata": {},
   "outputs": [],
   "source": [
    "vecsize = 100\n",
    "\n",
    "if model_load:\n",
    "    #load the model\n",
    "    model = Doc2Vec.load('gensim/models/d2v_vecsize_' + str(vecsize) + '.model')\n",
    "    \n",
    "else:\n",
    "    ## define the model\n",
    "    model = Doc2Vec(vector_size=vecsize, alpha=0.025, min_alpha=0.00025, min_count=10, dm =1)\n",
    "    model.build_vocab(data)\n",
    "\n",
    "    ## train the model\n",
    "    max_epochs = 100\n",
    "    for epoch in range(max_epochs):\n",
    "        print('iteration {0}'.format(epoch))\n",
    "        model.train(data, total_examples=model.corpus_count, epochs=model.epochs)\n",
    "        # decrease the learning rate\n",
    "        model.alpha -= 0.0002\n",
    "        # fix the learning rate, no decay\n",
    "        #model.min_alpha = model.alpha\n",
    "\n",
    "    \n",
    "    model.save('gensim/models/d2v_vecsize_' + str(vecsize) + '.model')\n",
    "    print(\"Model Saved\")"
   ]
  },
  {
   "cell_type": "code",
   "execution_count": null,
   "metadata": {},
   "outputs": [],
   "source": [
    "## generate the labels\n",
    "labels = [ data[i].tags[2] for i in range(len(data))]\n",
    "dic = {list(set(labels))[i]:i for i in range(len(list(set(labels))))}\n",
    "\n",
    "## generate a numpy array of all the vectors\n",
    "vec = np.zeros((len(data), vecsize))\n",
    "for i in range(len(data)):\n",
    "    vec[i] = model.docvecs[str(i)]\n",
    "    \n",
    "## distance matrix using angular distance    \n",
    "dij = np.zeros((len(data), len(data)))\n",
    "for i in range(0, len(data)-1):\n",
    "    for j in range(i+1, len(data)):\n",
    "        dij[i,j] = angular_distance(model.docvecs[str(i)], model.docvecs[str(j)])\n",
    "        dij[j,i] = dij[i,j]"
   ]
  },
  {
   "cell_type": "markdown",
   "metadata": {},
   "source": [
    "## Closest document to a given document"
   ]
  },
  {
   "cell_type": "code",
   "execution_count": null,
   "metadata": {},
   "outputs": [],
   "source": [
    "i = 0\n",
    "while True:\n",
    "    if 'afttp3-2.55.txt' in txtfiles_new[i]:\n",
    "        break\n",
    "    i += 1\n",
    "    \n",
    "print(txtfiles_new[i])\n",
    "print(txtfiles_new[np.argsort(dij[i])[1]])\n",
    "print(txtfiles_new[np.argsort(dij[i])[2]])\n",
    "print(txtfiles_new[np.argsort(dij[i])[3]])"
   ]
  },
  {
   "cell_type": "code",
   "execution_count": null,
   "metadata": {},
   "outputs": [],
   "source": [
    "i = 0\n",
    "while True:\n",
    "    if '465005p.txt' in txtfiles_new[i]:\n",
    "        break\n",
    "    i += 1\n",
    "    \n",
    "print(txtfiles_new[i])\n",
    "print(txtfiles_new[np.argsort(dij[i])[1]])\n",
    "print(txtfiles_new[np.argsort(dij[i])[2]])"
   ]
  },
  {
   "cell_type": "code",
   "execution_count": null,
   "metadata": {},
   "outputs": [],
   "source": [
    "i = 0\n",
    "while True:\n",
    "    if 'acci36-2801.txt' in txtfiles_new[i]:\n",
    "        break\n",
    "    i += 1\n",
    "    \n",
    "print(txtfiles_new[i])\n",
    "print(txtfiles_new[np.argsort(dij[i])[1]])\n",
    "print(txtfiles_new[np.argsort(dij[i])[2]])"
   ]
  },
  {
   "cell_type": "code",
   "execution_count": null,
   "metadata": {},
   "outputs": [],
   "source": [
    "i = 0\n",
    "while True:\n",
    "    if '415118h.txt' in txtfiles_new[i]:\n",
    "        break\n",
    "    i += 1\n",
    "    \n",
    "print(txtfiles_new[i])\n",
    "print(txtfiles_new[np.argsort(dij[i])[1]])\n",
    "print(txtfiles_new[np.argsort(dij[i])[2]])"
   ]
  },
  {
   "cell_type": "markdown",
   "metadata": {},
   "source": [
    "## Hierarchical Clustering"
   ]
  },
  {
   "cell_type": "markdown",
   "metadata": {},
   "source": [
    "I used this example to figure out how the linkage matrix encodes the clustering"
   ]
  },
  {
   "cell_type": "code",
   "execution_count": null,
   "metadata": {},
   "outputs": [],
   "source": [
    "matplotlib.rcParams['lines.linewidth'] = 2"
   ]
  },
  {
   "cell_type": "code",
   "execution_count": null,
   "metadata": {},
   "outputs": [],
   "source": [
    "fig, ax = plt.subplots(figsize=(10, 6))\n",
    "\n",
    "permute = np.random.permutation(len(data))\n",
    "nsmall = 50\n",
    "\n",
    "dij_small = [[dij[i,j] for i in permute[0:nsmall]] for j in permute[0:nsmall]]\n",
    "dij_small2 = np.asarray(dij_small)\n",
    "\n",
    "linkage_matrix = linkage(distance.squareform(dij_small2), \"single\")\n",
    "#ax.axis('off')\n",
    "ddn = dendrogram(linkage_matrix, no_labels=True, color_threshold=0, link_color_func=lambda k: 'k')#, ax=ax)\n",
    "leaves = np.asarray(ddn['leaves'])\n",
    "\n",
    "ax.plot(np.ones(10), 0.3*np.ones(10))\n",
    "          \n",
    "plt.savefig('gensim/figures/dendrogram_small.pdf', bbox_inches='tight')\n",
    "plt.show()"
   ]
  },
  {
   "cell_type": "code",
   "execution_count": null,
   "metadata": {},
   "outputs": [],
   "source": [
    "fc = fcluster(Z=linkage_matrix, t=0.425, criterion='distance')\n",
    "# Returns: an array of length n. T[i] is the flat cluster number to which original observation i belongs.\n",
    "print('number of clusters at this threshold: ', len(set(fc)))\n",
    "print(fc)"
   ]
  },
  {
   "cell_type": "code",
   "execution_count": null,
   "metadata": {},
   "outputs": [],
   "source": [
    "dij_small2_sorted = np.ones((nsmall, nsmall))\n",
    "for i in range(nsmall):\n",
    "    for j in range(nsmall):\n",
    "        dij_small2_sorted[i,j] = dij_small2[leaves[i], leaves[j]]"
   ]
  },
  {
   "cell_type": "code",
   "execution_count": null,
   "metadata": {},
   "outputs": [],
   "source": [
    "fig = plt.figure(figsize=(5,7))\n",
    "\n",
    "ax1 = plt.subplot2grid((3, 1), (0, 0), rowspan= 1, colspan=1)\n",
    "cm = matplotlib.cm.inferno\n",
    "#cm = \"coolwarm\"\n",
    "\n",
    "dd = dendrogram(linkage_matrix, color_threshold=0, above_threshold_color='black', \\\n",
    "                    no_plot=False, no_labels=True, count_sort=\"descending\")\n",
    "\n",
    "ax2 = plt.subplot2grid((3, 1), (1, 0), rowspan= 2, colspan=1);\n",
    "plt.pcolor(np.rot90(dij_small2_sorted, k=1, axes=(0, 1)), cmap=cm)\n",
    "ax2.set_xticks([])\n",
    "ax2.set_yticks([])"
   ]
  },
  {
   "cell_type": "markdown",
   "metadata": {},
   "source": [
    "### full dendrogram"
   ]
  },
  {
   "cell_type": "code",
   "execution_count": null,
   "metadata": {},
   "outputs": [],
   "source": [
    "matplotlib.rcParams['lines.linewidth'] = 0.5 #2.0 old value"
   ]
  },
  {
   "cell_type": "code",
   "execution_count": null,
   "metadata": {
    "scrolled": true
   },
   "outputs": [],
   "source": [
    "#dij_permute = [[dij[i,j] for i in permute] for j in permute]\n",
    "\n",
    "fig = plt.figure(figsize=(20,10))\n",
    "fs = 20\n",
    "plt.axis('off')\n",
    "dists = distance.squareform(dij)\n",
    "linkage_matrix = linkage(dists, \"single\")\n",
    "dd = dendrogram(linkage_matrix, no_labels=True, color_threshold=0, link_color_func=lambda k: 'k')#, labels=[\"0\", \"1\", \"2\"])\n",
    "#plt.title(\"Dendrogram\", fontsize=fs)\n",
    "plt.show()"
   ]
  },
  {
   "cell_type": "code",
   "execution_count": null,
   "metadata": {},
   "outputs": [],
   "source": [
    "dij.shape"
   ]
  },
  {
   "cell_type": "code",
   "execution_count": null,
   "metadata": {},
   "outputs": [],
   "source": [
    "leaves = np.asarray(dd['leaves'])"
   ]
  },
  {
   "cell_type": "code",
   "execution_count": null,
   "metadata": {},
   "outputs": [],
   "source": [
    "dij_sorted = np.ones((len(dij), len(dij)))\n",
    "for i in range(len(dij)):\n",
    "    for j in range(len(dij)):\n",
    "        dij_sorted[i,j] = dij[leaves[i], leaves[j]]"
   ]
  },
  {
   "cell_type": "code",
   "execution_count": null,
   "metadata": {},
   "outputs": [],
   "source": [
    "import scipy\n",
    "import pylab\n",
    "import scipy.cluster.hierarchy as sch\n",
    "from scipy.spatial.distance import squareform\n",
    "\n",
    "# Compute and plot first dendrogram.\n",
    "fig = pylab.figure(figsize=(16,16))\n",
    "ax1 = fig.add_axes([0.09,0.1,0.2,0.6])\n",
    "Y = sch.linkage(dists, method='single')\n",
    "Z1 = sch.dendrogram(Y, orientation='left', color_threshold=0, link_color_func=lambda k: 'k')\n",
    "ax1.set_xticks([])\n",
    "ax1.set_yticks([])\n",
    "\n",
    "# Compute and plot second dendrogram.\n",
    "ax2 = fig.add_axes([0.3,0.71,0.6,0.2])\n",
    "Y = sch.linkage(dists, method='single')\n",
    "Z2 = sch.dendrogram(Y, color_threshold=0, link_color_func=lambda k: 'k')\n",
    "ax2.set_xticks([])\n",
    "ax2.set_yticks([])\n",
    "\n",
    "# Plot distance matrix.\n",
    "axmatrix = fig.add_axes([0.3,0.1,0.6,0.6])\n",
    "idx1 = Z1['leaves']\n",
    "idx2 = Z2['leaves']\n",
    "#D = D[idx1,:]\n",
    "#D = D[:,idx2]\n",
    "im = axmatrix.matshow(dij_sorted, aspect='auto', origin='lower', cmap=cm)\n",
    "axmatrix.set_xticks([])\n",
    "axmatrix.set_yticks([])\n",
    "\n",
    "# Plot colorbar.\n",
    "axcolor = fig.add_axes([0.91,0.1,0.02,0.6])\n",
    "pylab.colorbar(im, cax=axcolor)\n",
    "fig.show()\n",
    "fig.savefig('gensim/figures/dendrogram.pdf')"
   ]
  },
  {
   "cell_type": "code",
   "execution_count": null,
   "metadata": {},
   "outputs": [],
   "source": [
    "matplotlib.rcParams['lines.linewidth'] = 2.0"
   ]
  },
  {
   "cell_type": "code",
   "execution_count": null,
   "metadata": {},
   "outputs": [],
   "source": [
    "linkage_matrix = linkage(dists, \"single\")\n",
    "fc = fcluster(Z=linkage_matrix, t=0.309, criterion='distance')\n",
    "# Returns: an array of length n. T[i] is the flat cluster number to which original observation i belongs.\n",
    "\n",
    "cluster_nums = sorted(list(set(fc)))\n",
    "clusters = {i:[] for i in cluster_nums}\n",
    "for i in range(len(fc)):\n",
    "    clusters[fc[i]].append(i)\n",
    "    \n",
    "print(r'$\\alpha_c = %.2f$' % ((len(set(fc))-1)/(len(fc)-1)))"
   ]
  },
  {
   "cell_type": "code",
   "execution_count": null,
   "metadata": {},
   "outputs": [],
   "source": [
    "fig, ((ax1, ax2, ax3), (ax4, ax5, ax6)) = plt.subplots(2, 3, figsize=(18, 9))\n",
    "tlist = [0.0, 0.1, 0.15, 0.2, 0.3, 0.35]\n",
    "axlist = [ax1, ax2, ax3, ax4, ax5, ax6]\n",
    "abclist = ['a', 'b', 'c', 'd', 'e', 'f']\n",
    "\n",
    "for k in range(len(tlist)):\n",
    "    fc = fcluster(Z=linkage_matrix, t=tlist[k], criterion='distance')\n",
    "    # Returns: an array of length n. T[i] is the flat cluster number to which original observation i belongs.\n",
    "\n",
    "    cluster_nums = sorted(list(set(fc)))\n",
    "    clusters = {i:[] for i in cluster_nums}\n",
    "    for i in range(len(fc)):\n",
    "        clusters[fc[i]].append(i)\n",
    "\n",
    "    #ax2.ticklabel_format(style='plain', axis='both', scilimits=(0,0))\n",
    "    #ax2.set_xlabel(r'log word count')\n",
    "    #ax2.set_ylabel('frequency')\n",
    "    #ax2.tick_params(axis='both', which='major')\n",
    "\n",
    "    ax = axlist[k]\n",
    "    cluster_sizes = np.sort([ len(clusters[i+1]) for i in range(max(fc)) ])\n",
    "    ax.hist(cluster_sizes, bins=15, density=False, alpha=1, color='k', histtype='step', linewidth=2)\n",
    "    ax.hist(cluster_sizes, bins=15, density=False, alpha=0.25, color='k')\n",
    "    ax.set_xlabel('cluster size')\n",
    "    ax.set_yscale('log')\n",
    "    #ax1.set_xlim(1, 80)\n",
    "    ax.text(-0.15, 1.02, abclist[k], transform=ax.transAxes, size=20)\n",
    "    ax.text(0.6, 0.9, r'$\\alpha_c = %.2f$' % ((len(set(fc))-1)/(len(fc)-1)), size=20, transform=ax.transAxes)\n",
    "\n",
    "plt.savefig(\"gensim/figures/cluster_size.png\", bbox_inches='tight')\n",
    "plt.show()"
   ]
  },
  {
   "cell_type": "code",
   "execution_count": null,
   "metadata": {},
   "outputs": [],
   "source": []
  },
  {
   "cell_type": "code",
   "execution_count": null,
   "metadata": {},
   "outputs": [],
   "source": []
  },
  {
   "cell_type": "code",
   "execution_count": null,
   "metadata": {},
   "outputs": [],
   "source": []
  }
 ],
 "metadata": {
  "kernelspec": {
   "display_name": "Python (policy2vec)",
   "language": "python",
   "name": "policy2vec"
  },
  "language_info": {
   "codemirror_mode": {
    "name": "ipython",
    "version": 3
   },
   "file_extension": ".py",
   "mimetype": "text/x-python",
   "name": "python",
   "nbconvert_exporter": "python",
   "pygments_lexer": "ipython3",
   "version": "3.8.5"
  }
 },
 "nbformat": 4,
 "nbformat_minor": 4
}
