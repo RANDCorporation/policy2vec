{
 "cells": [
  {
   "cell_type": "markdown",
   "metadata": {},
   "source": [
    "Network Analysis of Vaccination Strategies  \n",
    "Copyright (C) 2020 by The RAND Corporation  \n",
    "See LICENSE and README.md for information on usage and licensing\n",
    "\n",
    "# Policy Search Tool"
   ]
  },
  {
   "cell_type": "markdown",
   "metadata": {},
   "source": [
    "This notebook implements a simple search tool based on sub-string matching against the raw text version of the downloaded documents.\n",
    "\n",
    "Author: Gavin Hartnett\n",
    "\n",
    "Last Updated: Dec 31, 2020"
   ]
  },
  {
   "cell_type": "code",
   "execution_count": 1,
   "metadata": {},
   "outputs": [],
   "source": [
    "## imports\n",
    "import os\n",
    "import numpy as np\n",
    "import pandas as pd\n",
    "from sklearn.linear_model import LinearRegression\n",
    "import matplotlib.pyplot as plt\n",
    "import collections\n",
    "from IPython.display import display, HTML\n",
    "from datetime import date\n",
    "\n",
    "pd.set_option('display.max_columns', None)  # or 1000\n",
    "pd.set_option('display.max_rows', None)  # or 1000\n",
    "pd.set_option('display.max_colwidth', None)  # or 199\n",
    "\n",
    "import matplotlib.style as style \n",
    "style.use('seaborn-paper')"
   ]
  },
  {
   "cell_type": "markdown",
   "metadata": {},
   "source": [
    "## Set-up"
   ]
  },
  {
   "cell_type": "code",
   "execution_count": 2,
   "metadata": {},
   "outputs": [
    {
     "name": "stdout",
     "output_type": "stream",
     "text": [
      "found 37466 documents\n",
      "{'AF_epubs': 6824, 'AF_afcec': 1136, 'CRS_Reports': 8709, 'DoD': 1219, 'EO': 998, 'GAO': 18580}\n"
     ]
    }
   ],
   "source": [
    "## load the document paths\n",
    "doc_path = '../web_scraping/documents/parsed_text/'\n",
    "\n",
    "doc_types = [\n",
    "    'AF_afcec/AF_afcec/',\n",
    "    'AF_epubs/bases/',\n",
    "    'AF_epubs/departmental/',\n",
    "    'AF_epubs/dru/',\n",
    "    'AF_epubs/foa/',\n",
    "    'AF_epubs/majcom/',\n",
    "    'AF_epubs/natlguard/',\n",
    "    'AF_epubs/numberedAFB/',\n",
    "    'AF_epubs/space_force/',    \n",
    "    'AF_epubs/units/',\n",
    "    'CRS_Reports/CRS_Reports/',\n",
    "    'DoD/admin_instructions/',\n",
    "    'DoD/directives/',\n",
    "    'DoD/dtms/',\n",
    "    'DoD/instructions/',\n",
    "    'DoD/manuals/',\n",
    "    'EO/EO/',\n",
    "    'GAO/GAO'\n",
    "]\n",
    "\n",
    "paths = [doc_path + doc_type for doc_type in doc_types]\n",
    "docs_per_type = {'AF_epubs':0, 'AF_afcec':0, 'CRS_Reports':0, 'DoD':0, 'EO':0, 'GAO':0}\n",
    "file_paths = []\n",
    "fnames = []\n",
    "for doc_type in doc_types:\n",
    "    path = doc_path + doc_type    \n",
    "    fs = sorted(os.listdir(path))\n",
    "    file_paths.extend([path + f for f in fs])\n",
    "    fnames.extend([f for f in fs])\n",
    "    if 'AF_epubs' in doc_type:\n",
    "        docs_per_type['AF_epubs'] += len(fs)\n",
    "    if 'AF_afcec' in doc_type:\n",
    "        docs_per_type['AF_afcec'] += len(fs)        \n",
    "    if 'CRS_Reports' in doc_type:\n",
    "        docs_per_type['CRS_Reports'] += len(fs)  \n",
    "    if 'DoD' in doc_type:\n",
    "        docs_per_type['DoD'] += len(fs)        \n",
    "    if 'EO' in doc_type:\n",
    "        docs_per_type['EO'] += len(fs)\n",
    "    if 'GAO' in doc_type:\n",
    "        docs_per_type['GAO'] += len(fs)\n",
    "        \n",
    "print('found %i documents' %len(file_paths))\n",
    "print(docs_per_type)\n",
    "fnames_pdf = [f[:-4] + '.pdf' for f in fnames]"
   ]
  },
  {
   "cell_type": "code",
   "execution_count": 3,
   "metadata": {},
   "outputs": [],
   "source": [
    "## AFCEC\n",
    "df_afcec = pd.read_csv('../web_scraping/link_scrapers/logs/AF_afcec_afterDL.csv')\n",
    "df_afcec['doc type'] = len(df_afcec)*['AF_afcec']\n",
    "\n",
    "## AF E-Pubs\n",
    "df_afepubs = pd.read_csv('../web_scraping/link_scrapers/logs/AF_epubs_bases_afterDL.csv')\n",
    "df_afepubs = pd.concat([df_afepubs, pd.read_csv('../web_scraping/link_scrapers/logs/AF_epubs_departmental_afterDL.csv')])\n",
    "df_afepubs = pd.concat([df_afepubs, pd.read_csv('../web_scraping/link_scrapers/logs/AF_epubs_dru_afterDL.csv')])\n",
    "df_afepubs = pd.concat([df_afepubs, pd.read_csv('../web_scraping/link_scrapers/logs/AF_epubs_foa_afterDL.csv')])\n",
    "df_afepubs = pd.concat([df_afepubs, pd.read_csv('../web_scraping/link_scrapers/logs/AF_epubs_majcom_afterDL.csv')])\n",
    "df_afepubs = pd.concat([df_afepubs, pd.read_csv('../web_scraping/link_scrapers/logs/AF_epubs_natlguard_afterDL.csv')])\n",
    "df_afepubs = pd.concat([df_afepubs, pd.read_csv('../web_scraping/link_scrapers/logs/AF_epubs_numberedAFB_afterDL.csv')])\n",
    "df_afepubs = pd.concat([df_afepubs, pd.read_csv('../web_scraping/link_scrapers/logs/AF_epubs_units_afterDL.csv')])\n",
    "df_afepubs['doc type'] = len(df_afepubs)*['AF_epubs']\n",
    "\n",
    "## CRS Reports\n",
    "df_crs = pd.read_csv('../web_scraping/link_scrapers/logs/CRS_Reports.csv')\n",
    "df_crs['doc type'] = len(df_crs)*['CRS_Reports']\n",
    "\n",
    "## DoD\n",
    "df_dod = pd.read_csv('../web_scraping/link_scrapers/logs/DoD_admin_instructions_afterDL.csv')\n",
    "df_dod = pd.concat([df_dod, pd.read_csv('../web_scraping/link_scrapers/logs/DoD_admin_instructions_afterDL.csv')])\n",
    "df_dod = pd.concat([df_dod, pd.read_csv('../web_scraping/link_scrapers/logs/DoD_directives_afterDL.csv')])\n",
    "df_dod = pd.concat([df_dod, pd.read_csv('../web_scraping/link_scrapers/logs/DoD_dtms_afterDL.csv')])\n",
    "df_dod = pd.concat([df_dod, pd.read_csv('../web_scraping/link_scrapers/logs/DoD_instructions_afterDL.csv')])\n",
    "df_dod = pd.concat([df_dod, pd.read_csv('../web_scraping/link_scrapers/logs/DoD_manuals_afterDL.csv')])\n",
    "df_dod['doc type'] = len(df_dod)*['DoD']\n",
    "\n",
    "## EO\n",
    "df_eo = pd.read_csv('../web_scraping/link_scrapers/logs/EO.csv')\n",
    "df_eo['doc type'] = len(df_eo)*['EO']\n",
    "\n",
    "## GAO\n",
    "df_gao = pd.read_csv('../web_scraping/link_scrapers/logs/GAO_afterDL.csv')\n",
    "df_gao['doc type'] = len(df_gao)*['GAO']\n",
    "\n",
    "## concatenate to form a master list\n",
    "df = pd.concat([df_afcec, df_afepubs, df_crs, df_dod, df_eo, df_gao])"
   ]
  },
  {
   "cell_type": "code",
   "execution_count": 4,
   "metadata": {},
   "outputs": [
    {
     "data": {
      "text/plain": [
       "38132"
      ]
     },
     "execution_count": 4,
     "metadata": {},
     "output_type": "execute_result"
    }
   ],
   "source": [
    "len(df)"
   ]
  },
  {
   "cell_type": "markdown",
   "metadata": {},
   "source": [
    "The number of documents and the number of successful downloads does not match, perhaps because of password-protection."
   ]
  },
  {
   "cell_type": "code",
   "execution_count": 5,
   "metadata": {},
   "outputs": [
    {
     "name": "stdout",
     "output_type": "stream",
     "text": [
      "number of successful downloads: 37782\n",
      "number of documents: 37466\n"
     ]
    }
   ],
   "source": [
    "print('number of successful downloads: %i' %np.sum(df['download success']))\n",
    "print('number of documents: %i' %len(file_paths))"
   ]
  },
  {
   "cell_type": "code",
   "execution_count": 6,
   "metadata": {},
   "outputs": [
    {
     "data": {
      "text/plain": [
       "Title                                       Securities and Exchange Commission: Transaction Fee Pilot for NMS Stocks\n",
       "source                                                                                                   GAO reports\n",
       "source link                                                 https://www.gao.gov/reports-testimonies/month-in-review/\n",
       "link                                                                       https://www.gao.gov/assets/700/697608.pdf\n",
       "link date                                                                                           2021-01-29 15:26\n",
       "downloaded on                                                                                       2021-01-30 16:32\n",
       "download success                                                                                                True\n",
       "file name                                     SecuritiesandExchangeCommissionTransactionFeePilotforNMSStocks_gha.pdf\n",
       "file path           ../documents/pdfs/GAO/GAO/SecuritiesandExchangeCommissionTransactionFeePilotforNMSStocks_gha.pdf\n",
       "doc type                                                                                                         GAO\n",
       "Name: 18671, dtype: object"
      ]
     },
     "execution_count": 6,
     "metadata": {},
     "output_type": "execute_result"
    }
   ],
   "source": [
    "df.iloc[-1]"
   ]
  },
  {
   "cell_type": "markdown",
   "metadata": {},
   "source": [
    "Another issue to be mindful of is the fact in many cases the download only superficially succeeds in producing a pdf document. For example, a fairly common occurrence is that the file will be restricted, perhaps because it is FOUO, and as a result clicking on a link will take you to a pdf with some boilerplate text explaining that the document is restricted. My code isn't yet sophisticated enough to filter these out.\n",
    "\n",
    "Below is a list of all the duplicated filenames, which for the most part consists of these types of boilerplate documents. In 3 cases it looks like a legitimate document appears more than once with the same name. For example, 'afi13-204v1.pdf' is a filename that exists at both the majcom and departmental levels. I checked that these are actually different documents."
   ]
  },
  {
   "cell_type": "code",
   "execution_count": 7,
   "metadata": {},
   "outputs": [
    {
     "data": {
      "text/plain": [
       "[('for_official_use_only.pdf', 7),\n",
       " ('fouo.pdf', 3),\n",
       " ('generic_(fouo).pdf', 3),\n",
       " ('generic_fouo.pdf', 5),\n",
       " ('generic_opr.pdf', 2),\n",
       " ('generic_opr1.pdf', 2),\n",
       " ('generic_restricted.pdf', 5),\n",
       " ('generic_stocked_and_issued.pdf', 3),\n",
       " ('physical.pdf', 5),\n",
       " ('releasability.pdf', 3),\n",
       " ('restricted_access.pdf', 8),\n",
       " ('stocked_and_issued.pdf', 3),\n",
       " ('135002p.pdf', 2),\n",
       " ('200017p.pdf', 2)]"
      ]
     },
     "execution_count": 7,
     "metadata": {},
     "output_type": "execute_result"
    }
   ],
   "source": [
    "fnames_duplicates = [(item, count) for item, count in collections.Counter(fnames_pdf).items() if count > 1]\n",
    "fnames_duplicates"
   ]
  },
  {
   "cell_type": "markdown",
   "metadata": {},
   "source": [
    "Here is the main search function."
   ]
  },
  {
   "cell_type": "code",
   "execution_count": 8,
   "metadata": {},
   "outputs": [
    {
     "data": {
      "text/html": [
       "<div>\n",
       "<style scoped>\n",
       "    .dataframe tbody tr th:only-of-type {\n",
       "        vertical-align: middle;\n",
       "    }\n",
       "\n",
       "    .dataframe tbody tr th {\n",
       "        vertical-align: top;\n",
       "    }\n",
       "\n",
       "    .dataframe thead th {\n",
       "        text-align: right;\n",
       "    }\n",
       "</style>\n",
       "<table border=\"1\" class=\"dataframe\">\n",
       "  <thead>\n",
       "    <tr style=\"text-align: right;\">\n",
       "      <th></th>\n",
       "      <th>Title</th>\n",
       "      <th>source</th>\n",
       "      <th>source link</th>\n",
       "      <th>link</th>\n",
       "      <th>link date</th>\n",
       "      <th>downloaded on</th>\n",
       "      <th>download success</th>\n",
       "      <th>file name</th>\n",
       "      <th>file path</th>\n",
       "      <th>doc type</th>\n",
       "    </tr>\n",
       "  </thead>\n",
       "  <tbody>\n",
       "    <tr>\n",
       "      <th>0</th>\n",
       "      <td>DoD extends deadline for Tenant Satisfaction Survey</td>\n",
       "      <td>Air Force Civil Engineering Center</td>\n",
       "      <td>https://www.afcec.af.mil/News/</td>\n",
       "      <td>http://www.afcec.af.mil/News/Article-Display/Article/2477052/dod-extends-deadline-for-tenant-satisfaction-survey/</td>\n",
       "      <td>2021-01-29 14:10</td>\n",
       "      <td>2021-01-29 21:23</td>\n",
       "      <td>True</td>\n",
       "      <td>DoD extends deadline for Tenant Satisfaction Survey .pdf</td>\n",
       "      <td>documents/parsed_text/AF_afcec/AF_afcec/DoD extends deadline for Tenant Satisfaction Survey .pdf</td>\n",
       "      <td>AF_afcec</td>\n",
       "    </tr>\n",
       "    <tr>\n",
       "      <th>1</th>\n",
       "      <td>Dr. Martin Luther King Jr. Day: Remember, celebrate, act</td>\n",
       "      <td>Air Force Civil Engineering Center</td>\n",
       "      <td>https://www.afcec.af.mil/News/</td>\n",
       "      <td>http://www.afcec.af.mil/News/Article-Display/Article/2477066/dr-martin-luther-king-jr-day-remember-celebrate-act/</td>\n",
       "      <td>2021-01-29 14:10</td>\n",
       "      <td>2021-01-29 21:23</td>\n",
       "      <td>True</td>\n",
       "      <td>Dr. Martin Luther King Jr. Day: Remember, celebrate, act.pdf</td>\n",
       "      <td>documents/parsed_text/AF_afcec/AF_afcec/Dr. Martin Luther King Jr. Day: Remember, celebrate, act.pdf</td>\n",
       "      <td>AF_afcec</td>\n",
       "    </tr>\n",
       "    <tr>\n",
       "      <th>2</th>\n",
       "      <td>SAF/IE Releases Installation Energy Strategic Plan for Energy Assurance</td>\n",
       "      <td>Air Force Civil Engineering Center</td>\n",
       "      <td>https://www.afcec.af.mil/News/</td>\n",
       "      <td>http://www.afcec.af.mil/News/Article-Display/Article/2477038/safie-releases-installation-energy-strategic-plan-for-energy-assurance/</td>\n",
       "      <td>2021-01-29 14:10</td>\n",
       "      <td>NaN</td>\n",
       "      <td>False</td>\n",
       "      <td>SAF/IE Releases Installation Energy Strategic Plan for Energy Assurance.pdf</td>\n",
       "      <td>documents/parsed_text/AF_afcec/AF_afcec/SAF/IE Releases Installation Energy Strategic Plan for Energy Assurance.pdf</td>\n",
       "      <td>AF_afcec</td>\n",
       "    </tr>\n",
       "    <tr>\n",
       "      <th>3</th>\n",
       "      <td>Air Force to host Virtual Industry Exchange for Wright-Patterson AFB</td>\n",
       "      <td>Air Force Civil Engineering Center</td>\n",
       "      <td>https://www.afcec.af.mil/News/</td>\n",
       "      <td>http://www.afcec.af.mil/News/Article-Display/Article/2471393/air-force-to-host-virtual-industry-exchange-for-wright-patterson-afb/</td>\n",
       "      <td>2021-01-29 14:10</td>\n",
       "      <td>2021-01-29 21:23</td>\n",
       "      <td>True</td>\n",
       "      <td>Air Force to host Virtual Industry Exchange for Wright-Patterson AFB .pdf</td>\n",
       "      <td>documents/parsed_text/AF_afcec/AF_afcec/Air Force to host Virtual Industry Exchange for Wright-Patterson AFB .pdf</td>\n",
       "      <td>AF_afcec</td>\n",
       "    </tr>\n",
       "    <tr>\n",
       "      <th>4</th>\n",
       "      <td>Meet the 2021 I-WEPTAC MAWG Chairs</td>\n",
       "      <td>Air Force Civil Engineering Center</td>\n",
       "      <td>https://www.afcec.af.mil/News/</td>\n",
       "      <td>http://www.afcec.af.mil/News/Article-Display/Article/2477054/meet-the-2021-i-weptac-mawg-chairs/</td>\n",
       "      <td>2021-01-29 14:10</td>\n",
       "      <td>2021-01-29 21:23</td>\n",
       "      <td>True</td>\n",
       "      <td>Meet the 2021 I-WEPTAC MAWG Chairs.pdf</td>\n",
       "      <td>documents/parsed_text/AF_afcec/AF_afcec/Meet the 2021 I-WEPTAC MAWG Chairs.pdf</td>\n",
       "      <td>AF_afcec</td>\n",
       "    </tr>\n",
       "  </tbody>\n",
       "</table>\n",
       "</div>"
      ],
      "text/plain": [
       "                                                                     Title  \\\n",
       "0                     DoD extends deadline for Tenant Satisfaction Survey    \n",
       "1                 Dr. Martin Luther King Jr. Day: Remember, celebrate, act   \n",
       "2  SAF/IE Releases Installation Energy Strategic Plan for Energy Assurance   \n",
       "3    Air Force to host Virtual Industry Exchange for Wright-Patterson AFB    \n",
       "4                                       Meet the 2021 I-WEPTAC MAWG Chairs   \n",
       "\n",
       "                               source                     source link  \\\n",
       "0  Air Force Civil Engineering Center  https://www.afcec.af.mil/News/   \n",
       "1  Air Force Civil Engineering Center  https://www.afcec.af.mil/News/   \n",
       "2  Air Force Civil Engineering Center  https://www.afcec.af.mil/News/   \n",
       "3  Air Force Civil Engineering Center  https://www.afcec.af.mil/News/   \n",
       "4  Air Force Civil Engineering Center  https://www.afcec.af.mil/News/   \n",
       "\n",
       "                                                                                                                                   link  \\\n",
       "0                     http://www.afcec.af.mil/News/Article-Display/Article/2477052/dod-extends-deadline-for-tenant-satisfaction-survey/   \n",
       "1                     http://www.afcec.af.mil/News/Article-Display/Article/2477066/dr-martin-luther-king-jr-day-remember-celebrate-act/   \n",
       "2  http://www.afcec.af.mil/News/Article-Display/Article/2477038/safie-releases-installation-energy-strategic-plan-for-energy-assurance/   \n",
       "3    http://www.afcec.af.mil/News/Article-Display/Article/2471393/air-force-to-host-virtual-industry-exchange-for-wright-patterson-afb/   \n",
       "4                                      http://www.afcec.af.mil/News/Article-Display/Article/2477054/meet-the-2021-i-weptac-mawg-chairs/   \n",
       "\n",
       "          link date     downloaded on  download success  \\\n",
       "0  2021-01-29 14:10  2021-01-29 21:23              True   \n",
       "1  2021-01-29 14:10  2021-01-29 21:23              True   \n",
       "2  2021-01-29 14:10               NaN             False   \n",
       "3  2021-01-29 14:10  2021-01-29 21:23              True   \n",
       "4  2021-01-29 14:10  2021-01-29 21:23              True   \n",
       "\n",
       "                                                                     file name  \\\n",
       "0                     DoD extends deadline for Tenant Satisfaction Survey .pdf   \n",
       "1                 Dr. Martin Luther King Jr. Day: Remember, celebrate, act.pdf   \n",
       "2  SAF/IE Releases Installation Energy Strategic Plan for Energy Assurance.pdf   \n",
       "3    Air Force to host Virtual Industry Exchange for Wright-Patterson AFB .pdf   \n",
       "4                                       Meet the 2021 I-WEPTAC MAWG Chairs.pdf   \n",
       "\n",
       "                                                                                                             file path  \\\n",
       "0                     documents/parsed_text/AF_afcec/AF_afcec/DoD extends deadline for Tenant Satisfaction Survey .pdf   \n",
       "1                 documents/parsed_text/AF_afcec/AF_afcec/Dr. Martin Luther King Jr. Day: Remember, celebrate, act.pdf   \n",
       "2  documents/parsed_text/AF_afcec/AF_afcec/SAF/IE Releases Installation Energy Strategic Plan for Energy Assurance.pdf   \n",
       "3    documents/parsed_text/AF_afcec/AF_afcec/Air Force to host Virtual Industry Exchange for Wright-Patterson AFB .pdf   \n",
       "4                                       documents/parsed_text/AF_afcec/AF_afcec/Meet the 2021 I-WEPTAC MAWG Chairs.pdf   \n",
       "\n",
       "   doc type  \n",
       "0  AF_afcec  \n",
       "1  AF_afcec  \n",
       "2  AF_afcec  \n",
       "3  AF_afcec  \n",
       "4  AF_afcec  "
      ]
     },
     "execution_count": 8,
     "metadata": {},
     "output_type": "execute_result"
    }
   ],
   "source": [
    "df.head(5)"
   ]
  },
  {
   "cell_type": "code",
   "execution_count": 9,
   "metadata": {},
   "outputs": [],
   "source": [
    "def search(searchwords, case_insensitive=True):\n",
    "\n",
    "    if case_insensitive:\n",
    "        searchwords = [w.lower() for w in searchwords]\n",
    "        \n",
    "    ## initialize returned hit list\n",
    "    \n",
    "    ## use -1 for documents which weren't able to be searched\n",
    "    #hitlist = [[-1]*len(df) for i in range(len(searchwords))]\n",
    "    hitlist = [[0]*len(df) for i in range(len(searchwords))]\n",
    "\n",
    "    ## keep a running list of how many times each word appears in the different types of documents\n",
    "    ## i.e. DoD, AF, EO\n",
    "    types = list(docs_per_type.keys())\n",
    "    df_summary = pd.DataFrame()\n",
    "    df_summary['total number of docs'] = list(docs_per_type.values())\n",
    "    df_summary.index = types\n",
    "    for iw in range(len(searchwords)):\n",
    "        df_summary['hits: ' + searchwords[iw]] = [0]*len(types)\n",
    "    \n",
    "    ## convert search words to all lower case\n",
    "    if case_insensitive:\n",
    "        searchwords = [s.lower() for s in searchwords]\n",
    "\n",
    "    ## loop over all documents\n",
    "    for i in range(len(df)):\n",
    "        \n",
    "        ## load document text (not every entry in the df has a successfully downloaded document)\n",
    "        doc_string = None\n",
    "        doc_type = df['doc type'].iloc[i]\n",
    "        \n",
    "        path = df['file path'].iloc[i].replace('.pdf', '.txt').replace('/pdfs', '/parsed_text')\n",
    "        \n",
    "        ## I changed the directory structure without fixing how the path was recorded for some \n",
    "        ## doc sources, here's a quick hack to fix the problem\n",
    "        if path[0:3] == '../':\n",
    "            path = path[3:]\n",
    "        path = '../web_scraping/' + path\n",
    "        \n",
    "        try:\n",
    "            ## default is to convert all letters to lowercase\n",
    "            if case_insensitive:\n",
    "                doc_string = open(path, \"rb\").read().lower()\n",
    "            else:\n",
    "                doc_string = open(path, \"rb\").read()\n",
    "        \n",
    "        ## the above fails because some documents were not downloaded, and some were, but the pdf parser failed\n",
    "        except:\n",
    "            pass\n",
    "\n",
    "        if doc_string:\n",
    "            ## for each document, loop over all search words (also converted to lowercase)\n",
    "            for iw in range(len(searchwords)):\n",
    "                sub_str = str.encode(searchwords[iw])\n",
    "                hits = doc_string.count(sub_str)\n",
    "                hitlist[iw][i] = hits\n",
    "                #print(hits)\n",
    "\n",
    "                ## if there is a hit, record the type of document \n",
    "                if hits > 0:\n",
    "                    df_summary['hits: ' + searchwords[iw]][doc_type] += hits\n",
    "    \n",
    "        #print(hitlist)\n",
    "        #break\n",
    "        \n",
    "    ## convert hits into a dataframe\n",
    "    dfhits = df.copy()\n",
    "    for iw in range(len(searchwords)):\n",
    "        dfhits['hits: ' + searchwords[iw]] = hitlist[iw]\n",
    "\n",
    "    return dfhits, df_summary"
   ]
  },
  {
   "cell_type": "markdown",
   "metadata": {},
   "source": [
    "## Example Search"
   ]
  },
  {
   "cell_type": "code",
   "execution_count": 12,
   "metadata": {},
   "outputs": [],
   "source": [
    "search_terms = ['COVID', 'anti-satellite', 'South China Sea']\n",
    "\n",
    "dfhits, df_summary = search(search_terms)"
   ]
  },
  {
   "cell_type": "code",
   "execution_count": 13,
   "metadata": {},
   "outputs": [
    {
     "data": {
      "text/html": [
       "<div>\n",
       "<style scoped>\n",
       "    .dataframe tbody tr th:only-of-type {\n",
       "        vertical-align: middle;\n",
       "    }\n",
       "\n",
       "    .dataframe tbody tr th {\n",
       "        vertical-align: top;\n",
       "    }\n",
       "\n",
       "    .dataframe thead th {\n",
       "        text-align: right;\n",
       "    }\n",
       "</style>\n",
       "<table border=\"1\" class=\"dataframe\">\n",
       "  <thead>\n",
       "    <tr style=\"text-align: right;\">\n",
       "      <th></th>\n",
       "      <th>total number of docs</th>\n",
       "      <th>hits: covid</th>\n",
       "      <th>hits: anti-satellite</th>\n",
       "      <th>hits: south china sea</th>\n",
       "    </tr>\n",
       "  </thead>\n",
       "  <tbody>\n",
       "    <tr>\n",
       "      <th>AF_epubs</th>\n",
       "      <td>6824</td>\n",
       "      <td>12</td>\n",
       "      <td>7</td>\n",
       "      <td>0</td>\n",
       "    </tr>\n",
       "    <tr>\n",
       "      <th>AF_afcec</th>\n",
       "      <td>1136</td>\n",
       "      <td>137</td>\n",
       "      <td>0</td>\n",
       "      <td>0</td>\n",
       "    </tr>\n",
       "    <tr>\n",
       "      <th>CRS_Reports</th>\n",
       "      <td>8709</td>\n",
       "      <td>16049</td>\n",
       "      <td>23</td>\n",
       "      <td>1003</td>\n",
       "    </tr>\n",
       "    <tr>\n",
       "      <th>DoD</th>\n",
       "      <td>1219</td>\n",
       "      <td>0</td>\n",
       "      <td>1</td>\n",
       "      <td>2</td>\n",
       "    </tr>\n",
       "    <tr>\n",
       "      <th>EO</th>\n",
       "      <td>998</td>\n",
       "      <td>124</td>\n",
       "      <td>0</td>\n",
       "      <td>0</td>\n",
       "    </tr>\n",
       "    <tr>\n",
       "      <th>GAO</th>\n",
       "      <td>18580</td>\n",
       "      <td>6</td>\n",
       "      <td>33</td>\n",
       "      <td>25</td>\n",
       "    </tr>\n",
       "  </tbody>\n",
       "</table>\n",
       "</div>"
      ],
      "text/plain": [
       "             total number of docs  hits: covid  hits: anti-satellite  \\\n",
       "AF_epubs                     6824           12                     7   \n",
       "AF_afcec                     1136          137                     0   \n",
       "CRS_Reports                  8709        16049                    23   \n",
       "DoD                          1219            0                     1   \n",
       "EO                            998          124                     0   \n",
       "GAO                         18580            6                    33   \n",
       "\n",
       "             hits: south china sea  \n",
       "AF_epubs                         0  \n",
       "AF_afcec                         0  \n",
       "CRS_Reports                   1003  \n",
       "DoD                              2  \n",
       "EO                               0  \n",
       "GAO                             25  "
      ]
     },
     "execution_count": 13,
     "metadata": {},
     "output_type": "execute_result"
    }
   ],
   "source": [
    "df_summary"
   ]
  },
  {
   "cell_type": "code",
   "execution_count": null,
   "metadata": {},
   "outputs": [],
   "source": []
  }
 ],
 "metadata": {
  "kernelspec": {
   "display_name": "Python (policy2vec)",
   "language": "python",
   "name": "policy2vec"
  },
  "language_info": {
   "codemirror_mode": {
    "name": "ipython",
    "version": 3
   },
   "file_extension": ".py",
   "mimetype": "text/x-python",
   "name": "python",
   "nbconvert_exporter": "python",
   "pygments_lexer": "ipython3",
   "version": "3.8.5"
  }
 },
 "nbformat": 4,
 "nbformat_minor": 4
}
